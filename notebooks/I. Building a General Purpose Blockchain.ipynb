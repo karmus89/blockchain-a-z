{
 "cells": [
  {
   "cell_type": "markdown",
   "metadata": {},
   "source": [
    "*Created by Petteri Nevavuori <<petteri.nevavuori@gmail.com>>.*\n",
    "\n",
    "---\n",
    "\n",
    "# I. Building a General Purpose Blockchain\n",
    "\n",
    "In this notebook we'll build a general purpose centralized blockhain as the first step into the realm of blockchains, distributed ledgers and smart contracts. We'll showcase the fundamental aspects of block-related functionalities. The implementation follows closely on the premises of course Blockchain A-Z found in Udemy but not identically. This is the first module of the course. We will utilize the Python-based Flask web-server package to serve the general purpose blockchain. The development itself will be separated to several stages.\n",
    "\n",
    "While subsequent notebooks contain notes on the concepts, a suggested starter to read is an article by Kirill Eremenko called [How does Bitcoin / Blockchain Mining work?](https://medium.com/swlh/how-does-bitcoin-blockchain-mining-work-36db1c5cb55d)."
   ]
  },
  {
   "cell_type": "markdown",
   "metadata": {
    "toc": true
   },
   "source": [
    "<h1>Table of Contents<span class=\"tocSkip\"></span></h1>\n",
    "<div class=\"toc\"><ul class=\"toc-item\"><li><span><a href=\"#1.-Building-the-Blockhain\" data-toc-modified-id=\"1.-Building-the-Blockhain-1\">1. Building the Blockhain</a></span></li><li><span><a href=\"#2.-Creating-the-Web-App\" data-toc-modified-id=\"2.-Creating-the-Web-App-2\">2. Creating the Web App</a></span><ul class=\"toc-item\"><li><span><a href=\"#2.1-Testing-the-Blockchain-App\" data-toc-modified-id=\"2.1-Testing-the-Blockchain-App-2.1\">2.1 Testing the Blockchain App</a></span></li></ul></li><li><span><a href=\"#3.-Mining--Blocks\" data-toc-modified-id=\"3.-Mining--Blocks-3\">3. Mining  Blocks</a></span><ul class=\"toc-item\"><li><span><a href=\"#3.1-Testing-the-Chain-Validity\" data-toc-modified-id=\"3.1-Testing-the-Chain-Validity-3.1\">3.1 Testing the Chain Validity</a></span></li></ul></li></ul></div>"
   ]
  },
  {
   "cell_type": "markdown",
   "metadata": {},
   "source": [
    "## 1. Building the Blockhain\n",
    "\n",
    "The first thing of course is to build the blockchain. This blockchain utilizes a [proof-of-work](https://en.wikipedia.org/wiki/Proof-of-work_system) (POW) to validate the blocks. Essentially the POW states a problem that requires work to solve it and a target level for acceptance of the proof. With Bitcoins this means iteratively brute-forcing through [nonces](https://en.wikipedia.org/wiki/Cryptographic_nonce) to find the [SHA-256 hash](https://en.wikipedia.org/wiki/SHA-2) with four leading zeros. The probability of selecting a proper hexadecimal string with of 64 characters randomly is:"
   ]
  },
  {
   "cell_type": "code",
   "execution_count": 1,
   "metadata": {},
   "outputs": [
    {
     "name": "stdout",
     "output_type": "stream",
     "text": [
      "0.00153%\n"
     ]
    }
   ],
   "source": [
    "print(\"{:.5f}%\".format(int('0000'+'F'*60,16)/int('F'*64,16)*100))"
   ]
  },
  {
   "cell_type": "markdown",
   "metadata": {},
   "source": [
    "Our implementation's `proof` of a block essentially equals the nonce. This means that to produce a valid proof a number of iterations have to be tried out.\n",
    "\n",
    "In our blockchain the block-wise proofs are calculated with the proof values of the previous block. This means that *changing the a proof value mid-chain would require re-calculating i.e. re-mining the blocks* to have new proofs and thus re-calculating the block-wise hashes. Because our initial blockchain does not have any data associated with it just yet, linking the proofs and blocks separately serves as a safety measure to ensure the tampering of our distributed ledger would be nearly impossible."
   ]
  },
  {
   "cell_type": "code",
   "execution_count": 1,
   "metadata": {},
   "outputs": [],
   "source": [
    "import datetime\n",
    "import hashlib\n",
    "import json\n",
    "\n",
    "\n",
    "class Blockchain:\n",
    "\n",
    "    def __init__(self):\n",
    "        \n",
    "        self.chain = []\n",
    "        self.create_block(proof=1, previous_hash='0')\n",
    "\n",
    "    def create_block(self, proof, previous_hash):\n",
    "        \"Create a block.\"\n",
    "\n",
    "        block = {\n",
    "            'index': len(self.chain),\n",
    "            'timestamp': str(datetime.datetime.now()),\n",
    "            'proof': proof,\n",
    "            'previous_hash': previous_hash,\n",
    "        }\n",
    "        self.chain.append(block)\n",
    "        \n",
    "        return block\n",
    "\n",
    "    def get_previous_block(self):\n",
    "        \n",
    "        return self.chain[-1]\n",
    "\n",
    "    def hash_proof(self, previous_proof, next_proof):\n",
    "        \"Calculate the SHA256-hash\"\n",
    "        \n",
    "        return (hashlib\n",
    "                .sha256(str(next_proof**2 - previous_proof**2).encode())\n",
    "                .hexdigest())\n",
    "\n",
    "    def hash_block(self, block):\n",
    "        \"Calculate the SHA256-hash for a block.\"\n",
    "\n",
    "        encoded_block = json.dumps(block, sort_keys=True).encode()\n",
    "        \n",
    "        return hashlib.sha256(encoded_block).hexdigest()\n",
    "\n",
    "    def proof_of_work(self, previous_proof):\n",
    "        \"Calculate a new proof related to the previous block.\"\n",
    "\n",
    "        next_proof = 1\n",
    "        check_proof = False\n",
    "\n",
    "        while check_proof is False:\n",
    "\n",
    "            if self.hash_proof(previous_proof, next_proof)[:4] == '0000':\n",
    "                check_proof = True\n",
    "\n",
    "            else:\n",
    "                next_proof += 1\n",
    "\n",
    "        return next_proof\n",
    "\n",
    "    def is_chain_valid(self, chain):\n",
    "        \"Validate that block and proof hashes are correct across the chain.\"\n",
    "\n",
    "        for i in range(len(chain)):\n",
    "\n",
    "            if i == 0:\n",
    "                continue\n",
    "\n",
    "            if chain[i]['previous_hash'] != self.hash_block(chain[i-1]):\n",
    "                return False\n",
    "\n",
    "            previous_proof = chain[i-1]['proof']\n",
    "            next_proof = chain[i]['proof']\n",
    "\n",
    "            if self.hash_proof(previous_proof, next_proof)[:4] != '0000':\n",
    "                \n",
    "                return False\n",
    "\n",
    "            return True"
   ]
  },
  {
   "cell_type": "markdown",
   "metadata": {},
   "source": [
    "## 2. Creating the Web App\n",
    "\n",
    "We will use Flask to create an accessible chain that is able to handle GET and POST requests for our chain accordingly. The endpoints for our web app are:\n",
    "\n",
    "- ``[\\blocks] POST``: Mine a single Block and save it to the centralized chain.\n",
    "- ``[\\blocks] GET``: Validate and retrieve the full chain of Blocks.\n",
    "\n",
    "We will also use a distinct class to easen up the use of the server in a manner which allows for non-blocking use of the notebook. Thus we run the server in a separate thread. We will also wrap the request calls as more easily called functions of the app. The ``BlockchainApp`` is usable as a context manager to ensure that the distinct thread is closed.\n",
    "\n",
    "An important point to notice is that the ``Blockchain`` instance will live separately from the ``BlockchainApp``. This means that while the ``BlockchainApp`` is re-initialized over and over, the actual Flask server accesses the ``Blockchain`` instance initialized at the same time with the server. Thus, the Blocks mined are persisted until the Python kernel is restarted."
   ]
  },
  {
   "cell_type": "code",
   "execution_count": 2,
   "metadata": {},
   "outputs": [],
   "source": [
    "import threading\n",
    "import requests\n",
    "\n",
    "from flask import Flask, request, jsonify\n",
    "from werkzeug.serving import run_simple\n",
    "\n",
    "\n",
    "class BlockchainApp:\n",
    "\n",
    "    def __init__(self, host='localhost', port=5000, chain=Blockchain):\n",
    "\n",
    "        self.host = host\n",
    "        self.port = port\n",
    "        self.chain = chain()\n",
    "\n",
    "        self.host_url = f'http://{self.host}:{self.port}'\n",
    "        \n",
    "        self.app = Flask(__name__)\n",
    "        self.add_api_endpoints()\n",
    "        \n",
    "        self.thread = threading.Thread(\n",
    "            target=run_simple,\n",
    "            kwargs={\n",
    "                'hostname': self.host,\n",
    "                'port': self.port,\n",
    "                'application': self.app}\n",
    "        )\n",
    "\n",
    "    def __enter__(self):\n",
    "\n",
    "        self.start()\n",
    "\n",
    "        return self\n",
    "\n",
    "    def __exit__(self, *args):\n",
    "\n",
    "        self.stop()\n",
    "        \n",
    "    def add_api_endpoints(self):\n",
    "        \"Add API endpoints to the Flask WebApp.\"\n",
    "        \n",
    "        self.app.add_url_rule(\n",
    "            rule='/blocks',\n",
    "            view_func=self.api_blocks,\n",
    "            methods=['GET', 'POST']\n",
    "        )\n",
    "        self.app.add_url_rule(\n",
    "            rule='/blocks/validate',\n",
    "            view_func=self.api_validate,\n",
    "        )\n",
    "        self.app.add_url_rule(\n",
    "            rule='/shutdown',\n",
    "            view_func=self.api_shutdown,\n",
    "        )\n",
    "\n",
    "    def api_blocks(self):\n",
    "        \"Either retrieve the node's current chain or post a new block to the chain.\"\n",
    "\n",
    "        if request.method == 'POST':\n",
    "\n",
    "            prev_block = self.chain.get_previous_block()\n",
    "            prev_hash = self.chain.hash_block(prev_block)\n",
    "            prev_proof = prev_block['proof']\n",
    "\n",
    "            proof = self.chain.proof_of_work(prev_proof)\n",
    "\n",
    "            block = self.chain.create_block(proof, prev_hash)\n",
    "\n",
    "            response = {'message': 'Congratulations, you just mined a Block!',\n",
    "                        'block': block}\n",
    "\n",
    "            return (jsonify(response), 200)\n",
    "\n",
    "        if request.method == 'GET':\n",
    "\n",
    "            response = {'chain': self.chain.chain,\n",
    "                        'length': len(self.chain.chain)}\n",
    "\n",
    "            return (jsonify(response), 200)\n",
    "\n",
    "    def api_validate(self):\n",
    "        \"Validate the chain\"\n",
    "\n",
    "        if self.chain.is_chain_valid(self.chain.chain):\n",
    "\n",
    "            response = {'message': 'Chain is valid.',\n",
    "                        'valid': True}\n",
    "            return (jsonify(response), 200)\n",
    "\n",
    "        else:\n",
    "\n",
    "            response = {'message': 'Chain is not valid!',\n",
    "                        'valid': False}\n",
    "            return (jsonify(response), 500)\n",
    "\n",
    "    def api_shutdown(self):\n",
    "        \"Shutdown the Flask WebApp\"\n",
    "\n",
    "        request.environ.get('werkzeug.server.shutdown')()\n",
    "\n",
    "        return jsonify({'message': 'Shutting down'}), 200\n",
    "\n",
    "    def start(self):\n",
    "        \"Start the Flask-based Blockchain WebApp.\"\n",
    "\n",
    "        self.thread.start()\n",
    "\n",
    "    def stop(self):\n",
    "        \"Stop the Flask-based Blockchain WebApp.\"\n",
    "\n",
    "        if self.thread.is_alive():\n",
    "\n",
    "            return requests.get(f'{self.host_url}/shutdown')"
   ]
  },
  {
   "cell_type": "markdown",
   "metadata": {},
   "source": [
    "### 2.1 Testing the Blockchain App\n",
    "\n",
    "Let's then give the app a test run!"
   ]
  },
  {
   "cell_type": "code",
   "execution_count": 4,
   "metadata": {
    "scrolled": false
   },
   "outputs": [
    {
     "name": "stderr",
     "output_type": "stream",
     "text": [
      " * Running on http://localhost:5000/ (Press CTRL+C to quit)\n"
     ]
    },
    {
     "name": "stdout",
     "output_type": "stream",
     "text": [
      "BlockchainApp\n"
     ]
    },
    {
     "name": "stderr",
     "output_type": "stream",
     "text": [
      "127.0.0.1 - - [17/May/2018 11:23:01] \"POST /blocks HTTP/1.1\" 200 -\n"
     ]
    },
    {
     "name": "stdout",
     "output_type": "stream",
     "text": [
      "{\n",
      "  \"block\": {\n",
      "    \"index\": 1,\n",
      "    \"previous_hash\": \"aa037f09d677799a99bde71a5c39672432ec45b571c61bf19e300293d696d247\",\n",
      "    \"proof\": 533,\n",
      "    \"timestamp\": \"2018-05-17 11:23:01.276072\"\n",
      "  },\n",
      "  \"message\": \"Congratulations, you just mined a Block!\"\n",
      "}\n"
     ]
    },
    {
     "name": "stderr",
     "output_type": "stream",
     "text": [
      "127.0.0.1 - - [17/May/2018 11:23:02] \"GET /blocks HTTP/1.1\" 200 -\n"
     ]
    },
    {
     "name": "stdout",
     "output_type": "stream",
     "text": [
      "{\n",
      "  \"blockchain\": [\n",
      "    {\n",
      "      \"index\": 0,\n",
      "      \"previous_hash\": \"0\",\n",
      "      \"proof\": 1,\n",
      "      \"timestamp\": \"2018-05-17 11:23:00.257932\"\n",
      "    },\n",
      "    {\n",
      "      \"index\": 1,\n",
      "      \"previous_hash\": \"aa037f09d677799a99bde71a5c39672432ec45b571c61bf19e300293d696d247\",\n",
      "      \"proof\": 533,\n",
      "      \"timestamp\": \"2018-05-17 11:23:01.276072\"\n",
      "    }\n",
      "  ],\n",
      "  \"length\": 2\n",
      "}\n"
     ]
    },
    {
     "name": "stderr",
     "output_type": "stream",
     "text": [
      "127.0.0.1 - - [17/May/2018 11:23:03] \"GET /blocks/validate HTTP/1.1\" 200 -\n"
     ]
    },
    {
     "name": "stdout",
     "output_type": "stream",
     "text": [
      "{\n",
      "  \"message\": \"Chain is valid.\",\n",
      "  \"valid\": true\n",
      "}\n"
     ]
    },
    {
     "name": "stderr",
     "output_type": "stream",
     "text": [
      "127.0.0.1 - - [17/May/2018 11:23:04] \"GET /shutdown HTTP/1.1\" 200 -\n"
     ]
    }
   ],
   "source": [
    "with BlockchainApp() as blockchain_app:\n",
    "\n",
    "    print(blockchain_app.__class__.__name__)\n",
    "\n",
    "    response = requests.post(f'{blockchain_app.host_url}/blocks')\n",
    "    print(json.dumps(response.json(), indent=2))\n",
    "\n",
    "    response = requests.get(f'{blockchain_app.host_url}/blocks')\n",
    "    print(json.dumps(response.json(), indent=2))\n",
    "    \n",
    "    response = requests.get(f'{blockchain_app.host_url}/blocks/validate')\n",
    "    print(json.dumps(response.json(), indent=2))"
   ]
  },
  {
   "cell_type": "markdown",
   "metadata": {},
   "source": [
    "## 3. Mining  Blocks\n",
    "\n",
    "Then we'll mine several blocks. This means that we'll start the server and make a few requests to the `/blocks` with a POST request."
   ]
  },
  {
   "cell_type": "code",
   "execution_count": 5,
   "metadata": {},
   "outputs": [
    {
     "name": "stderr",
     "output_type": "stream",
     "text": [
      " * Running on http://localhost:5000/ (Press CTRL+C to quit)\n",
      "127.0.0.1 - - [17/May/2018 11:23:35] \"POST /blocks HTTP/1.1\" 200 -\n"
     ]
    },
    {
     "name": "stdout",
     "output_type": "stream",
     "text": [
      "Proof=533\n"
     ]
    },
    {
     "name": "stderr",
     "output_type": "stream",
     "text": [
      "127.0.0.1 - - [17/May/2018 11:23:36] \"POST /blocks HTTP/1.1\" 200 -\n"
     ]
    },
    {
     "name": "stdout",
     "output_type": "stream",
     "text": [
      "Proof=45293\n"
     ]
    },
    {
     "name": "stderr",
     "output_type": "stream",
     "text": [
      "127.0.0.1 - - [17/May/2018 11:23:37] \"POST /blocks HTTP/1.1\" 200 -\n"
     ]
    },
    {
     "name": "stdout",
     "output_type": "stream",
     "text": [
      "Proof=21391\n"
     ]
    },
    {
     "name": "stderr",
     "output_type": "stream",
     "text": [
      "127.0.0.1 - - [17/May/2018 11:23:38] \"POST /blocks HTTP/1.1\" 200 -\n"
     ]
    },
    {
     "name": "stdout",
     "output_type": "stream",
     "text": [
      "Proof=8018\n"
     ]
    },
    {
     "name": "stderr",
     "output_type": "stream",
     "text": [
      "127.0.0.1 - - [17/May/2018 11:23:39] \"GET /blocks HTTP/1.1\" 200 -\n"
     ]
    },
    {
     "name": "stdout",
     "output_type": "stream",
     "text": [
      "Chain={\n",
      "  \"blockchain\": [\n",
      "    {\n",
      "      \"index\": 0,\n",
      "      \"previous_hash\": \"0\",\n",
      "      \"proof\": 1,\n",
      "      \"timestamp\": \"2018-05-17 11:23:34.489424\"\n",
      "    },\n",
      "    {\n",
      "      \"index\": 1,\n",
      "      \"previous_hash\": \"0898ebe729b4094d29e88a37666eea804283b358d7ef8f71b5f4e3569f71c23c\",\n",
      "      \"proof\": 533,\n",
      "      \"timestamp\": \"2018-05-17 11:23:35.499157\"\n",
      "    },\n",
      "    {\n",
      "      \"index\": 2,\n",
      "      \"previous_hash\": \"03aa5640ade8534dc1419b29413d8908c822c090079080139415e37c3aa89903\",\n",
      "      \"proof\": 45293,\n",
      "      \"timestamp\": \"2018-05-17 11:23:36.636971\"\n",
      "    },\n",
      "    {\n",
      "      \"index\": 3,\n",
      "      \"previous_hash\": \"6683bd4452b6f2acb9719d7cddb684bf8a5cc1ba2b56f2ab356db9731e1f792c\",\n",
      "      \"proof\": 21391,\n",
      "      \"timestamp\": \"2018-05-17 11:23:37.722398\"\n",
      "    },\n",
      "    {\n",
      "      \"index\": 4,\n",
      "      \"previous_hash\": \"7658422de8b132c643537bd9afd585c535aeb2f8b655264d5a0ab91971fa2747\",\n",
      "      \"proof\": 8018,\n",
      "      \"timestamp\": \"2018-05-17 11:23:38.760560\"\n",
      "    }\n",
      "  ],\n",
      "  \"length\": 5\n",
      "}\n"
     ]
    },
    {
     "name": "stderr",
     "output_type": "stream",
     "text": [
      "127.0.0.1 - - [17/May/2018 11:23:40] \"GET /blocks/validate HTTP/1.1\" 200 -\n"
     ]
    },
    {
     "name": "stdout",
     "output_type": "stream",
     "text": [
      "{\n",
      "  \"message\": \"Chain is valid.\",\n",
      "  \"valid\": true\n",
      "}\n"
     ]
    },
    {
     "name": "stderr",
     "output_type": "stream",
     "text": [
      "127.0.0.1 - - [17/May/2018 11:23:41] \"GET /shutdown HTTP/1.1\" 200 -\n"
     ]
    }
   ],
   "source": [
    "with BlockchainApp() as blockchain_app:\n",
    "\n",
    "    for _ in range(4):\n",
    "\n",
    "        response = requests.post(f'{blockchain_app.host_url}/blocks')\n",
    "        print(\"Proof={}\".format(response.json()['block']['proof']))\n",
    "\n",
    "    response = requests.get(f'{blockchain_app.host_url}/blocks')\n",
    "    print(\"Chain={}\".format(json.dumps(response.json(), indent=2)))\n",
    "    \n",
    "    response = requests.get(f'{blockchain_app.host_url}/blocks/validate')\n",
    "    print(json.dumps(response.json(), indent=2))"
   ]
  },
  {
   "cell_type": "markdown",
   "metadata": {},
   "source": [
    "If you compare the first two Blocks with the test run you can see that the hashes and proofs match. This is intended, as already stated, as the ``Blockchain`` lives centralized in the server for this showcase and the ``BlockchainApp`` only makes calls to that server."
   ]
  },
  {
   "cell_type": "markdown",
   "metadata": {},
   "source": [
    "### 3.1 Testing the Chain Validity\n",
    "\n",
    "We also want to see if changing the proof mid-chain breaks the chain. For this we must access the initialized ``Blockchain`` directly as the miniserver doesn't have a method for altering the chain - which is a wise starting point!"
   ]
  },
  {
   "cell_type": "code",
   "execution_count": 6,
   "metadata": {},
   "outputs": [
    {
     "name": "stderr",
     "output_type": "stream",
     "text": [
      " * Running on http://localhost:5000/ (Press CTRL+C to quit)\n",
      "127.0.0.1 - - [17/May/2018 11:24:12] \"POST /blocks HTTP/1.1\" 200 -\n"
     ]
    },
    {
     "name": "stdout",
     "output_type": "stream",
     "text": [
      "Proof=533\n"
     ]
    },
    {
     "name": "stderr",
     "output_type": "stream",
     "text": [
      "127.0.0.1 - - [17/May/2018 11:24:13] \"POST /blocks HTTP/1.1\" 200 -\n"
     ]
    },
    {
     "name": "stdout",
     "output_type": "stream",
     "text": [
      "Proof=45293\n"
     ]
    },
    {
     "name": "stderr",
     "output_type": "stream",
     "text": [
      "127.0.0.1 - - [17/May/2018 11:24:14] \"POST /blocks HTTP/1.1\" 200 -\n"
     ]
    },
    {
     "name": "stdout",
     "output_type": "stream",
     "text": [
      "Proof=21391\n"
     ]
    },
    {
     "name": "stderr",
     "output_type": "stream",
     "text": [
      "127.0.0.1 - - [17/May/2018 11:24:15] \"POST /blocks HTTP/1.1\" 200 -\n"
     ]
    },
    {
     "name": "stdout",
     "output_type": "stream",
     "text": [
      "Proof=8018\n",
      "Proofs: Original=533, Forged=12345\n"
     ]
    },
    {
     "name": "stderr",
     "output_type": "stream",
     "text": [
      "127.0.0.1 - - [17/May/2018 11:24:16] \"GET /blocks HTTP/1.1\" 200 -\n"
     ]
    },
    {
     "name": "stdout",
     "output_type": "stream",
     "text": [
      "{\n",
      "  \"blockchain\": [\n",
      "    {\n",
      "      \"index\": 0,\n",
      "      \"previous_hash\": \"0\",\n",
      "      \"proof\": 1,\n",
      "      \"timestamp\": \"2018-05-17 11:24:11.501229\"\n",
      "    },\n",
      "    {\n",
      "      \"index\": 1,\n",
      "      \"previous_hash\": \"3709200a7104364db3f4c7f0464e2b478ceff4a6ec9ef8c494ca946891fdb796\",\n",
      "      \"proof\": 12345,\n",
      "      \"timestamp\": \"2018-05-17 11:24:12.509229\"\n",
      "    },\n",
      "    {\n",
      "      \"index\": 2,\n",
      "      \"previous_hash\": \"aae67119ebb026be70cf1638c0b0e9aa3aa316029e90c05273e37254cc6ac9f8\",\n",
      "      \"proof\": 45293,\n",
      "      \"timestamp\": \"2018-05-17 11:24:13.646387\"\n",
      "    },\n",
      "    {\n",
      "      \"index\": 3,\n",
      "      \"previous_hash\": \"dcce5c492011de9724ada1bbd8a59f0679cca429d199558930efacc158207772\",\n",
      "      \"proof\": 21391,\n",
      "      \"timestamp\": \"2018-05-17 11:24:14.739003\"\n",
      "    },\n",
      "    {\n",
      "      \"index\": 4,\n",
      "      \"previous_hash\": \"4c9dd27b0001c1a16619ace602b9a08073e42ccd5482e562fb10b6ef163dfe5a\",\n",
      "      \"proof\": 8018,\n",
      "      \"timestamp\": \"2018-05-17 11:24:15.789439\"\n",
      "    }\n",
      "  ],\n",
      "  \"length\": 5\n",
      "}\n"
     ]
    },
    {
     "name": "stderr",
     "output_type": "stream",
     "text": [
      "127.0.0.1 - - [17/May/2018 11:24:17] \"GET /blocks/validate HTTP/1.1\" 500 -\n"
     ]
    },
    {
     "name": "stdout",
     "output_type": "stream",
     "text": [
      "{\n",
      "  \"message\": \"Chain is not valid!\",\n",
      "  \"valid\": false\n",
      "}\n",
      "Hashes: \n",
      "\tOriginal =\taae67119ebb026be70cf1638c0b0e9aa3aa316029e90c05273e37254cc6ac9f8\n",
      "\tForged =\tb3e1a78ae4b5cd947a6690f4a5ee9b3a71a13a2df00d77cbc4c904c9b2ac2deb\n"
     ]
    },
    {
     "name": "stderr",
     "output_type": "stream",
     "text": [
      "127.0.0.1 - - [17/May/2018 11:24:18] \"GET /shutdown HTTP/1.1\" 200 -\n"
     ]
    }
   ],
   "source": [
    "with BlockchainApp() as blockchain_app:\n",
    "    \n",
    "    for _ in range(4):\n",
    "\n",
    "        response = requests.post(f'{blockchain_app.host_url}/blocks')\n",
    "        print(\"Proof={}\".format(response.json()['block']['proof']))\n",
    "\n",
    "    original = blockchain_app.chain.chain[1]['proof']\n",
    "    blockchain_app.chain.chain[1]['proof'] = 12345\n",
    "    print('Proofs: Original={}, Forged={}'.format(original,blockchain_app.chain.chain[1]['proof']))\n",
    "    \n",
    "    response = requests.get(f'{blockchain_app.host_url}/blocks')\n",
    "    print(json.dumps(response.json(), indent=2))\n",
    "    \n",
    "    response = requests.get(f'{blockchain_app.host_url}/blocks/validate')\n",
    "    print(json.dumps(response.json(), indent=2))\n",
    "    \n",
    "    proof_1 = blockchain_app.chain.chain[1]['proof']\n",
    "    proof_2 = blockchain_app.chain.chain[2]['proof']\n",
    "\n",
    "    forged_hash = blockchain_app.chain.hash_proof(proof_1, proof_2)\n",
    "\n",
    "    print(\"Hashes: \\n\\tOriginal =\\t{}\\n\\tForged =\\t{}\".format(blockchain_app.chain.chain[2]['previous_hash'],\n",
    "                                                              forged_hash))\n"
   ]
  },
  {
   "cell_type": "markdown",
   "metadata": {},
   "source": [
    "And so we indeed have invalidated the chain! The avalanche effect of the hash-function is clearly visible in the last few lines of the above printout. The hashes with the original proof and the forged one differ substantially from each other. This is what makes even slight forgeries impossible without comporising the validity of the chain."
   ]
  }
 ],
 "metadata": {
  "hide_input": false,
  "kernelspec": {
   "display_name": "Python 3",
   "language": "python",
   "name": "python3"
  },
  "language_info": {
   "codemirror_mode": {
    "name": "ipython",
    "version": 3
   },
   "file_extension": ".py",
   "mimetype": "text/x-python",
   "name": "python",
   "nbconvert_exporter": "python",
   "pygments_lexer": "ipython3",
   "version": "3.6.5"
  },
  "toc": {
   "nav_menu": {},
   "number_sections": false,
   "sideBar": true,
   "skip_h1_title": true,
   "title_cell": "Table of Contents",
   "title_sidebar": "Contents",
   "toc_cell": true,
   "toc_position": {},
   "toc_section_display": true,
   "toc_window_display": false
  }
 },
 "nbformat": 4,
 "nbformat_minor": 2
}
