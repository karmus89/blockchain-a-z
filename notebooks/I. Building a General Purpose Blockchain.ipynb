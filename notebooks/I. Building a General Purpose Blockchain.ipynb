{
 "cells": [
  {
   "cell_type": "markdown",
   "metadata": {},
   "source": [
    "*Created by Petteri Nevavuori <<petteri.nevavuori@gmail.com>>.*\n",
    "\n",
    "---\n",
    "\n",
    "# I. Building a General Purpose Blockchain\n",
    "\n",
    "In this notebook we'll build a general purpose centralized blockhain as the first step into the realm of blockchains, distributed ledgers and smart contracts. We'll showcase the fundamental aspects of block-related functionalities. The implementation follows closely on the premises of course Blockchain A-Z found in Udemy but not identically. This is the first module of the course. We will utilize the Python-based Flask web-server package to serve the general purpose blockchain. The development itself will be separated to several stages."
   ]
  },
  {
   "cell_type": "markdown",
   "metadata": {
    "toc": true
   },
   "source": [
    "<h1>Table of Contents<span class=\"tocSkip\"></span></h1>\n",
    "<div class=\"toc\"><ul class=\"toc-item\"><li><span><a href=\"#1.-Building-the-Blockhain\" data-toc-modified-id=\"1.-Building-the-Blockhain-1\">1. Building the Blockhain</a></span></li><li><span><a href=\"#2.-Creating-the-Web-App\" data-toc-modified-id=\"2.-Creating-the-Web-App-2\">2. Creating the Web App</a></span><ul class=\"toc-item\"><li><span><a href=\"#2.1-Testing-the-Blockchain-App\" data-toc-modified-id=\"2.1-Testing-the-Blockchain-App-2.1\">2.1 Testing the Blockchain App</a></span></li></ul></li><li><span><a href=\"#3.-Mining--Blocks\" data-toc-modified-id=\"3.-Mining--Blocks-3\">3. Mining  Blocks</a></span><ul class=\"toc-item\"><li><span><a href=\"#3.1-Testing-the-Chain-Validity\" data-toc-modified-id=\"3.1-Testing-the-Chain-Validity-3.1\">3.1 Testing the Chain Validity</a></span></li></ul></li></ul></div>"
   ]
  },
  {
   "cell_type": "markdown",
   "metadata": {},
   "source": [
    "## 1. Building the Blockhain\n",
    "\n",
    "The first thing of course is to build the blockchain. This blockchain utilizes a [proof-of-work](https://en.wikipedia.org/wiki/Proof-of-work_system) (POW) to validate the blocks. Essentially the POW states a problem that requires work to solve it and a target level for acceptance of the proof. With Bitcoins this means iteratively brute-forcing through [nonces](https://en.wikipedia.org/wiki/Cryptographic_nonce) to find the [SHA-256 hash](https://en.wikipedia.org/wiki/SHA-2) with four leading zeros. The probability of selecting a proper hexadecimal string with of 64 characters randomly is:"
   ]
  },
  {
   "cell_type": "code",
   "execution_count": 1,
   "metadata": {},
   "outputs": [
    {
     "name": "stdout",
     "output_type": "stream",
     "text": [
      "0.00153%\n"
     ]
    }
   ],
   "source": [
    "print(\"{:.5f}%\".format(int('0000'+'F'*60,16)/int('F'*64,16)*100))"
   ]
  },
  {
   "cell_type": "markdown",
   "metadata": {},
   "source": [
    "Our implementation's `proof` of a block essentially equals the nonce. This means that to produce a valid proof a number of iterations have to be tried out.\n",
    "\n",
    "In our blockchain the block-wise proofs are calculated with the proof values of the previous block. This means that *changing the a proof value mid-chain would require re-calculating i.e. re-mining the blocks* to have new proofs and thus re-calculating the block-wise hashes. Because our initial blockchain does not have any data associated with it just yet, linking the proofs and blocks separately serves as a safety measure to ensure the tampering of our distributed ledger would be nearly impossible."
   ]
  },
  {
   "cell_type": "code",
   "execution_count": 2,
   "metadata": {},
   "outputs": [],
   "source": [
    "import datetime\n",
    "import hashlib\n",
    "import json\n",
    "\n",
    "\n",
    "class Blockchain:\n",
    "\n",
    "    def __init__(self):\n",
    "        \n",
    "        self.chain = []\n",
    "        self.create_block(proof=1, previous_hash='0')\n",
    "\n",
    "    def create_block(self, proof, previous_hash):\n",
    "        \"Create a block.\"\n",
    "\n",
    "        block = {\n",
    "            'index': len(self.chain),\n",
    "            'timestamp': str(datetime.datetime.now()),\n",
    "            'proof': proof,\n",
    "            'previous_hash': previous_hash,\n",
    "        }\n",
    "        self.chain.append(block)\n",
    "        \n",
    "        return block\n",
    "\n",
    "    def get_previous_block(self):\n",
    "        \n",
    "        return self.chain[-1]\n",
    "\n",
    "    def hash_proof(self, previous_proof, next_proof):\n",
    "        \"Calculate the SHA256-hash\"\n",
    "        \n",
    "        return (hashlib\n",
    "                .sha256(str(next_proof**2 - previous_proof**2).encode())\n",
    "                .hexdigest())\n",
    "\n",
    "    def hash_block(self, block):\n",
    "        \"Calculate the SHA256-hash for a block.\"\n",
    "\n",
    "        encoded_block = json.dumps(block, sort_keys=True).encode()\n",
    "        \n",
    "        return hashlib.sha256(encoded_block).hexdigest()\n",
    "\n",
    "    def proof_of_work(self, previous_proof):\n",
    "        \"Calculate a new proof related to the previous block.\"\n",
    "\n",
    "        next_proof = 1\n",
    "        check_proof = False\n",
    "\n",
    "        while check_proof is False:\n",
    "\n",
    "            if self.hash_proof(previous_proof, next_proof)[:4] == '0000':\n",
    "                check_proof = True\n",
    "\n",
    "            else:\n",
    "                next_proof += 1\n",
    "\n",
    "        return next_proof\n",
    "\n",
    "    def is_chain_valid(self, chain):\n",
    "        \"Validate that block and proof hashes are correct across the chain.\"\n",
    "\n",
    "        for i in range(len(chain)):\n",
    "\n",
    "            if i == 0:\n",
    "                continue\n",
    "\n",
    "            if chain[i]['previous_hash'] != self.hash_block(chain[i-1]):\n",
    "                return False\n",
    "\n",
    "            previous_proof = chain[i-1]['proof']\n",
    "            next_proof = chain[i]['proof']\n",
    "\n",
    "            if self.hash_proof(previous_proof, next_proof)[:4] != '0000':\n",
    "                \n",
    "                return False\n",
    "\n",
    "            return True"
   ]
  },
  {
   "cell_type": "markdown",
   "metadata": {},
   "source": [
    "## 2. Creating the Web App\n",
    "\n",
    "We will use Flask to create an accessible chain that is able to handle GET and POST requests for our chain accordingly. The endpoints for our web app are:\n",
    "\n",
    "- ``[\\blocks] POST``: Mine a single Block and save it to the centralized chain.\n",
    "- ``[\\blocks] GET``: Validate and retrieve the full chain of Blocks.\n",
    "\n",
    "We will also use a distinct class to easen up the use of the server in a manner which allows for non-blocking use of the notebook. Thus we run the server in a separate thread. We will also wrap the request calls as more easily called functions of the app. The ``BlockchainApp`` is usable as a context manager to ensure that the distinct thread is closed.\n",
    "\n",
    "An important point to notice is that the ``Blockchain`` instance will live separately from the ``BlockchainApp``. This means that while the ``BlockchainApp`` is re-initialized over and over, the actual Flask server accesses the ``Blockchain`` instance initialized at the same time with the server. Thus, the Blocks mined are persisted until the Python kernel is restarted."
   ]
  },
  {
   "cell_type": "code",
   "execution_count": 3,
   "metadata": {},
   "outputs": [],
   "source": [
    "import threading\n",
    "import requests\n",
    "\n",
    "from flask import Flask, request, jsonify\n",
    "from werkzeug.serving import run_simple\n",
    "\n",
    "\n",
    "class BlockchainApp:\n",
    "\n",
    "    def __init__(self, host='localhost', port=5000):\n",
    "\n",
    "        self.host = host\n",
    "        self.port = port\n",
    "        self.chain = Blockchain()\n",
    "\n",
    "        self.host_url = f'http://{self.host}:{self.port}'\n",
    "        self.app = Flask(__name__)\n",
    "\n",
    "        self.app.add_url_rule(\n",
    "            rule='/blocks',\n",
    "            view_func=self.api_blocks,\n",
    "            methods=['GET', 'POST']\n",
    "        )\n",
    "        self.app.add_url_rule(\n",
    "            rule='/blocks/validate',\n",
    "            view_func=self.api_validate,\n",
    "        )\n",
    "        self.app.add_url_rule(\n",
    "            rule='/shutdown',\n",
    "            view_func=self.api_shutdown,\n",
    "        )\n",
    "\n",
    "        self.thread = threading.Thread(\n",
    "            target=run_simple,\n",
    "            kwargs={\n",
    "                'hostname': self.host,\n",
    "                'port': self.port,\n",
    "                'application': self.app}\n",
    "        )\n",
    "\n",
    "    def __enter__(self):\n",
    "\n",
    "        self.start()\n",
    "\n",
    "        return self\n",
    "\n",
    "    def __exit__(self, *args):\n",
    "\n",
    "        self.stop()\n",
    "\n",
    "    def api_blocks(self):\n",
    "\n",
    "        if request.method == 'POST':\n",
    "\n",
    "            prev_block = self.chain.get_previous_block()\n",
    "            prev_hash = self.chain.hash_block(prev_block)\n",
    "            prev_proof = prev_block['proof']\n",
    "\n",
    "            proof = self.chain.proof_of_work(prev_proof)\n",
    "\n",
    "            block = self.chain.create_block(proof, prev_hash)\n",
    "\n",
    "            response = {'message': 'Congratulations, you just mined a Block!',\n",
    "                        'block': block}\n",
    "\n",
    "            return (jsonify(response), 200)\n",
    "\n",
    "        if request.method == 'GET':\n",
    "\n",
    "            response = {'blockchain': self.chain.chain,\n",
    "                        'length': len(self.chain.chain)}\n",
    "\n",
    "            return (jsonify(response), 200)\n",
    "\n",
    "    def api_validate(self):\n",
    "\n",
    "        if self.chain.is_chain_valid(self.chain.chain):\n",
    "\n",
    "            response = {'message': 'Chain is valid.',\n",
    "                        'valid': True}\n",
    "            return (jsonify(response), 200)\n",
    "\n",
    "        else:\n",
    "\n",
    "            response = {'message': 'Chain is not valid!',\n",
    "                        'valid': False}\n",
    "            return (jsonify(response), 500)\n",
    "\n",
    "    def api_shutdown(self):\n",
    "\n",
    "        request.environ.get('werkzeug.server.shutdown')()\n",
    "\n",
    "        return jsonify({'message': 'Shutting down'}), 200\n",
    "\n",
    "    def get_blockchain(self):\n",
    "\n",
    "        return requests.get(f'{self.host_url}/blocks')\n",
    "\n",
    "    def mine_block(self):\n",
    "\n",
    "        return requests.post(f'{self.host_url}/blocks')\n",
    "\n",
    "    def start(self):\n",
    "\n",
    "        self.thread.start()\n",
    "\n",
    "    def stop(self):\n",
    "\n",
    "        if self.thread.is_alive():\n",
    "\n",
    "            return requests.get(f'{self.host_url}/shutdown')\n",
    "\n",
    "    def validate_blockchain(self):\n",
    "\n",
    "        return requests.get(f'{self.host_url}/blocks/validate')"
   ]
  },
  {
   "cell_type": "markdown",
   "metadata": {},
   "source": [
    "### 2.1 Testing the Blockchain App\n",
    "\n",
    "Let's then give the app a test run!"
   ]
  },
  {
   "cell_type": "code",
   "execution_count": 4,
   "metadata": {
    "scrolled": false
   },
   "outputs": [
    {
     "name": "stderr",
     "output_type": "stream",
     "text": [
      " * Running on http://localhost:5000/ (Press CTRL+C to quit)\n"
     ]
    },
    {
     "name": "stdout",
     "output_type": "stream",
     "text": [
      "BlockchainApp\n"
     ]
    },
    {
     "name": "stderr",
     "output_type": "stream",
     "text": [
      "127.0.0.1 - - [16/May/2018 08:48:58] \"POST /blocks HTTP/1.1\" 200 -\n"
     ]
    },
    {
     "name": "stdout",
     "output_type": "stream",
     "text": [
      "{\n",
      "  \"block\": {\n",
      "    \"index\": 1,\n",
      "    \"previous_hash\": \"314104ce935d2d1b559fc5c085a4fe752408f1291049737e2b867c5f5c0c0ab8\",\n",
      "    \"proof\": 533,\n",
      "    \"timestamp\": \"2018-05-16 08:48:58.771522\"\n",
      "  },\n",
      "  \"message\": \"Congratulations, you just mined a Block!\"\n",
      "}\n"
     ]
    },
    {
     "name": "stderr",
     "output_type": "stream",
     "text": [
      "127.0.0.1 - - [16/May/2018 08:48:59] \"GET /blocks HTTP/1.1\" 200 -\n"
     ]
    },
    {
     "name": "stdout",
     "output_type": "stream",
     "text": [
      "{\n",
      "  \"blockchain\": [\n",
      "    {\n",
      "      \"index\": 0,\n",
      "      \"previous_hash\": \"0\",\n",
      "      \"proof\": 1,\n",
      "      \"timestamp\": \"2018-05-16 08:48:57.756766\"\n",
      "    },\n",
      "    {\n",
      "      \"index\": 1,\n",
      "      \"previous_hash\": \"314104ce935d2d1b559fc5c085a4fe752408f1291049737e2b867c5f5c0c0ab8\",\n",
      "      \"proof\": 533,\n",
      "      \"timestamp\": \"2018-05-16 08:48:58.771522\"\n",
      "    }\n",
      "  ],\n",
      "  \"length\": 2\n",
      "}\n"
     ]
    },
    {
     "name": "stderr",
     "output_type": "stream",
     "text": [
      "127.0.0.1 - - [16/May/2018 08:49:00] \"GET /blocks/validate HTTP/1.1\" 200 -\n"
     ]
    },
    {
     "name": "stdout",
     "output_type": "stream",
     "text": [
      "{\n",
      "  \"message\": \"Chain is valid.\",\n",
      "  \"valid\": true\n",
      "}\n"
     ]
    },
    {
     "name": "stderr",
     "output_type": "stream",
     "text": [
      "127.0.0.1 - - [16/May/2018 08:49:01] \"GET /shutdown HTTP/1.1\" 200 -\n"
     ]
    }
   ],
   "source": [
    "with BlockchainApp() as blockchain_app:\n",
    "\n",
    "    print(blockchain_app.__class__.__name__)\n",
    "\n",
    "    response = blockchain_app.mine_block()\n",
    "    print(json.dumps(response.json(), indent=2))\n",
    "\n",
    "    response = blockchain_app.get_blockchain()\n",
    "    print(json.dumps(response.json(), indent=2))\n",
    "    \n",
    "    response = blockchain_app.validate_blockchain()\n",
    "    print(json.dumps(response.json(), indent=2))"
   ]
  },
  {
   "cell_type": "markdown",
   "metadata": {},
   "source": [
    "## 3. Mining  Blocks\n",
    "\n",
    "Then we'll mine several blocks. This means that we'll start the server and make a few requests to the `/blocks` with a POST request."
   ]
  },
  {
   "cell_type": "code",
   "execution_count": 5,
   "metadata": {},
   "outputs": [
    {
     "name": "stderr",
     "output_type": "stream",
     "text": [
      " * Running on http://localhost:5000/ (Press CTRL+C to quit)\n",
      "127.0.0.1 - - [16/May/2018 08:49:06] \"POST /blocks HTTP/1.1\" 200 -\n"
     ]
    },
    {
     "name": "stdout",
     "output_type": "stream",
     "text": [
      "Proof=533\n"
     ]
    },
    {
     "name": "stderr",
     "output_type": "stream",
     "text": [
      "127.0.0.1 - - [16/May/2018 08:49:07] \"POST /blocks HTTP/1.1\" 200 -\n"
     ]
    },
    {
     "name": "stdout",
     "output_type": "stream",
     "text": [
      "Proof=45293\n"
     ]
    },
    {
     "name": "stderr",
     "output_type": "stream",
     "text": [
      "127.0.0.1 - - [16/May/2018 08:49:08] \"POST /blocks HTTP/1.1\" 200 -\n"
     ]
    },
    {
     "name": "stdout",
     "output_type": "stream",
     "text": [
      "Proof=21391\n"
     ]
    },
    {
     "name": "stderr",
     "output_type": "stream",
     "text": [
      "127.0.0.1 - - [16/May/2018 08:49:09] \"POST /blocks HTTP/1.1\" 200 -\n"
     ]
    },
    {
     "name": "stdout",
     "output_type": "stream",
     "text": [
      "Proof=8018\n"
     ]
    },
    {
     "name": "stderr",
     "output_type": "stream",
     "text": [
      "127.0.0.1 - - [16/May/2018 08:49:10] \"GET /blocks HTTP/1.1\" 200 -\n"
     ]
    },
    {
     "name": "stdout",
     "output_type": "stream",
     "text": [
      "Chain={\n",
      "  \"blockchain\": [\n",
      "    {\n",
      "      \"index\": 0,\n",
      "      \"previous_hash\": \"0\",\n",
      "      \"proof\": 1,\n",
      "      \"timestamp\": \"2018-05-16 08:49:05.457244\"\n",
      "    },\n",
      "    {\n",
      "      \"index\": 1,\n",
      "      \"previous_hash\": \"c4123e3b57d8b70b92319436c4dad9531c7074d506d79180e2abbd206f7a433d\",\n",
      "      \"proof\": 533,\n",
      "      \"timestamp\": \"2018-05-16 08:49:06.467524\"\n",
      "    },\n",
      "    {\n",
      "      \"index\": 2,\n",
      "      \"previous_hash\": \"aeee0a31814366029dd384dc8cd8a88d066aea1ec8bf378596d5fdf34c3c188a\",\n",
      "      \"proof\": 45293,\n",
      "      \"timestamp\": \"2018-05-16 08:49:07.629675\"\n",
      "    },\n",
      "    {\n",
      "      \"index\": 3,\n",
      "      \"previous_hash\": \"758fc7f33cf7cf532ace0c7cae44b6318f6e7b0b9eabf4f686fc8ac2d09cf2e9\",\n",
      "      \"proof\": 21391,\n",
      "      \"timestamp\": \"2018-05-16 08:49:08.737937\"\n",
      "    },\n",
      "    {\n",
      "      \"index\": 4,\n",
      "      \"previous_hash\": \"f66c690dffaf0f4cd6659e6ebca69267b87d70941a651185a16434689e848188\",\n",
      "      \"proof\": 8018,\n",
      "      \"timestamp\": \"2018-05-16 08:49:09.805570\"\n",
      "    }\n",
      "  ],\n",
      "  \"length\": 5\n",
      "}\n"
     ]
    },
    {
     "name": "stderr",
     "output_type": "stream",
     "text": [
      "127.0.0.1 - - [16/May/2018 08:49:11] \"GET /blocks/validate HTTP/1.1\" 200 -\n"
     ]
    },
    {
     "name": "stdout",
     "output_type": "stream",
     "text": [
      "{\n",
      "  \"message\": \"Chain is valid.\",\n",
      "  \"valid\": true\n",
      "}\n"
     ]
    },
    {
     "name": "stderr",
     "output_type": "stream",
     "text": [
      "127.0.0.1 - - [16/May/2018 08:49:12] \"GET /shutdown HTTP/1.1\" 200 -\n"
     ]
    }
   ],
   "source": [
    "with BlockchainApp() as blockchain_app:\n",
    "\n",
    "    for _ in range(4):\n",
    "\n",
    "        response = blockchain_app.mine_block()\n",
    "        print(\"Proof={}\".format(response.json()['block']['proof']))\n",
    "\n",
    "    response = blockchain_app.get_blockchain()\n",
    "    print(\"Chain={}\".format(json.dumps(response.json(), indent=2)))\n",
    "    \n",
    "    response = blockchain_app.validate_blockchain()\n",
    "    print(json.dumps(response.json(), indent=2))"
   ]
  },
  {
   "cell_type": "markdown",
   "metadata": {},
   "source": [
    "If you compare the first two Blocks with the test run you can see that the hashes and proofs match. This is intended, as already stated, as the ``Blockchain`` lives centralized in the server for this showcase and the ``BlockchainApp`` only makes calls to that server."
   ]
  },
  {
   "cell_type": "markdown",
   "metadata": {},
   "source": [
    "### 3.1 Testing the Chain Validity\n",
    "\n",
    "We also want to see if changing the proof mid-chain breaks the chain. For this we must access the initialized ``Blockchain`` directly as the miniserver doesn't have a method for altering the chain - which is a wise starting point!"
   ]
  },
  {
   "cell_type": "code",
   "execution_count": 10,
   "metadata": {},
   "outputs": [
    {
     "name": "stderr",
     "output_type": "stream",
     "text": [
      " * Running on http://localhost:5000/ (Press CTRL+C to quit)\n",
      "127.0.0.1 - - [16/May/2018 08:58:59] \"POST /blocks HTTP/1.1\" 200 -\n"
     ]
    },
    {
     "name": "stdout",
     "output_type": "stream",
     "text": [
      "Proof=533\n"
     ]
    },
    {
     "name": "stderr",
     "output_type": "stream",
     "text": [
      "127.0.0.1 - - [16/May/2018 08:59:00] \"POST /blocks HTTP/1.1\" 200 -\n"
     ]
    },
    {
     "name": "stdout",
     "output_type": "stream",
     "text": [
      "Proof=45293\n"
     ]
    },
    {
     "name": "stderr",
     "output_type": "stream",
     "text": [
      "127.0.0.1 - - [16/May/2018 08:59:01] \"POST /blocks HTTP/1.1\" 200 -\n"
     ]
    },
    {
     "name": "stdout",
     "output_type": "stream",
     "text": [
      "Proof=21391\n"
     ]
    },
    {
     "name": "stderr",
     "output_type": "stream",
     "text": [
      "127.0.0.1 - - [16/May/2018 08:59:02] \"POST /blocks HTTP/1.1\" 200 -\n"
     ]
    },
    {
     "name": "stdout",
     "output_type": "stream",
     "text": [
      "Proof=8018\n",
      "Proofs: Original=533, Forged=12345\n"
     ]
    },
    {
     "name": "stderr",
     "output_type": "stream",
     "text": [
      "127.0.0.1 - - [16/May/2018 08:59:03] \"GET /blocks HTTP/1.1\" 200 -\n"
     ]
    },
    {
     "name": "stdout",
     "output_type": "stream",
     "text": [
      "{\n",
      "  \"blockchain\": [\n",
      "    {\n",
      "      \"index\": 0,\n",
      "      \"previous_hash\": \"0\",\n",
      "      \"proof\": 1,\n",
      "      \"timestamp\": \"2018-05-16 08:58:58.573088\"\n",
      "    },\n",
      "    {\n",
      "      \"index\": 1,\n",
      "      \"previous_hash\": \"064891cce8222925dbe8f8790cd4ef562112ed82bb37a4749496d09a34d5d0d4\",\n",
      "      \"proof\": 12345,\n",
      "      \"timestamp\": \"2018-05-16 08:58:59.584288\"\n",
      "    },\n",
      "    {\n",
      "      \"index\": 2,\n",
      "      \"previous_hash\": \"9a9e09a60e3de0ee776259f9aa01201b57f8eb0dd1f00460cb3622543fe65404\",\n",
      "      \"proof\": 45293,\n",
      "      \"timestamp\": \"2018-05-16 08:59:00.731544\"\n",
      "    },\n",
      "    {\n",
      "      \"index\": 3,\n",
      "      \"previous_hash\": \"8a24cac8d63c467faec15cee9ea9aba4615e11b9d99cc707932c3a189388f469\",\n",
      "      \"proof\": 21391,\n",
      "      \"timestamp\": \"2018-05-16 08:59:01.822083\"\n",
      "    },\n",
      "    {\n",
      "      \"index\": 4,\n",
      "      \"previous_hash\": \"f5a7a2eeae886e7be7127448e8f2b2d5a40405eddc31265e3bf01bfa2c3919d8\",\n",
      "      \"proof\": 8018,\n",
      "      \"timestamp\": \"2018-05-16 08:59:02.874947\"\n",
      "    }\n",
      "  ],\n",
      "  \"length\": 5\n",
      "}\n"
     ]
    },
    {
     "name": "stderr",
     "output_type": "stream",
     "text": [
      "127.0.0.1 - - [16/May/2018 08:59:04] \"GET /blocks/validate HTTP/1.1\" 500 -\n"
     ]
    },
    {
     "name": "stdout",
     "output_type": "stream",
     "text": [
      "{\n",
      "  \"message\": \"Chain is not valid!\",\n",
      "  \"valid\": false\n",
      "}\n",
      "Hashes: \n",
      "\tOriginal =\t9a9e09a60e3de0ee776259f9aa01201b57f8eb0dd1f00460cb3622543fe65404\n",
      "\tForged =\tb3e1a78ae4b5cd947a6690f4a5ee9b3a71a13a2df00d77cbc4c904c9b2ac2deb\n"
     ]
    },
    {
     "name": "stderr",
     "output_type": "stream",
     "text": [
      "127.0.0.1 - - [16/May/2018 08:59:05] \"GET /shutdown HTTP/1.1\" 200 -\n"
     ]
    }
   ],
   "source": [
    "with BlockchainApp() as blockchain_app:\n",
    "    \n",
    "    for _ in range(4):\n",
    "\n",
    "        response = blockchain_app.mine_block()\n",
    "        print(\"Proof={}\".format(response.json()['block']['proof']))\n",
    "\n",
    "    original = blockchain_app.chain.chain[1]['proof']\n",
    "    blockchain_app.chain.chain[1]['proof'] = 12345\n",
    "    print('Proofs: Original={}, Forged={}'.format(original,blockchain_app.chain.chain[1]['proof']))\n",
    "    \n",
    "    response = blockchain_app.get_blockchain()\n",
    "    print(json.dumps(response.json(), indent=2))\n",
    "    \n",
    "    response = blockchain_app.validate_blockchain()\n",
    "    print(json.dumps(response.json(), indent=2))\n",
    "    \n",
    "    proof_1 = blockchain_app.chain.chain[1]['proof']\n",
    "    proof_2 = blockchain_app.chain.chain[2]['proof']\n",
    "\n",
    "    forged_hash = blockchain_app.chain.hash_proof(proof_1, proof_2)\n",
    "\n",
    "    print(\"Hashes: \\n\\tOriginal =\\t{}\\n\\tForged =\\t{}\".format(blockchain_app.chain.chain[2]['previous_hash'],\n",
    "                                                              forged_hash))\n"
   ]
  },
  {
   "cell_type": "markdown",
   "metadata": {},
   "source": [
    "And so we indeed have invalidated the chain!"
   ]
  }
 ],
 "metadata": {
  "hide_input": false,
  "kernelspec": {
   "display_name": "Python 3",
   "language": "python",
   "name": "python3"
  },
  "language_info": {
   "codemirror_mode": {
    "name": "ipython",
    "version": 3
   },
   "file_extension": ".py",
   "mimetype": "text/x-python",
   "name": "python",
   "nbconvert_exporter": "python",
   "pygments_lexer": "ipython3",
   "version": "3.6.5"
  },
  "toc": {
   "nav_menu": {},
   "number_sections": false,
   "sideBar": true,
   "skip_h1_title": true,
   "title_cell": "Table of Contents",
   "title_sidebar": "Contents",
   "toc_cell": true,
   "toc_position": {},
   "toc_section_display": true,
   "toc_window_display": false
  }
 },
 "nbformat": 4,
 "nbformat_minor": 2
}
