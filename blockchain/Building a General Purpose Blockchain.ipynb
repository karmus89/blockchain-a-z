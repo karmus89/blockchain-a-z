{
 "cells": [
  {
   "cell_type": "markdown",
   "metadata": {},
   "source": [
    "*Created by Petteri Nevavuori <<petteri.nevavuori@gmail.com>>.*\n",
    "\n",
    "---\n",
    "\n",
    "# Building a General Purpose Blockchain\n",
    "\n",
    "In this notebook we'll build a general purpose centralized blockhain as the first step into the realm of blockchains, distributed ledgers and smart contracts. We'll showcase the fundamental aspects of block-related functionalities. The implementation follows closely on the premises of course Blockchain A-Z found in Udemy but not identically. This is the first module of the course. We will utilize the Python-based Flask web-server package to serve the general purpose blockchain. The development itself will be separated to several stages."
   ]
  },
  {
   "cell_type": "markdown",
   "metadata": {
    "toc": true
   },
   "source": [
    "<h1>Table of Contents<span class=\"tocSkip\"></span></h1>\n",
    "<div class=\"toc\"><ul class=\"toc-item\"><li><span><a href=\"#1.-Building-the-Blockhain\" data-toc-modified-id=\"1.-Building-the-Blockhain-1\">1. Building the Blockhain</a></span></li><li><span><a href=\"#2.-Creating-the-Web-App\" data-toc-modified-id=\"2.-Creating-the-Web-App-2\">2. Creating the Web App</a></span><ul class=\"toc-item\"><li><span><a href=\"#2.1-Testing-the-Blockchain-App\" data-toc-modified-id=\"2.1-Testing-the-Blockchain-App-2.1\">2.1 Testing the Blockchain App</a></span></li></ul></li><li><span><a href=\"#3.-Mining--Blocks\" data-toc-modified-id=\"3.-Mining--Blocks-3\">3. Mining  Blocks</a></span><ul class=\"toc-item\"><li><span><a href=\"#3.1-Testing-the-Chain-Validity\" data-toc-modified-id=\"3.1-Testing-the-Chain-Validity-3.1\">3.1 Testing the Chain Validity</a></span></li></ul></li></ul></div>"
   ]
  },
  {
   "cell_type": "markdown",
   "metadata": {},
   "source": [
    "## 1. Building the Blockhain\n",
    "\n",
    "The first thing of course is to build the blockchain. This blockchain utilizes a [proof-of-work](https://en.wikipedia.org/wiki/Proof-of-work_system) (POW) to validate the blocks. Essentially the POW states a problem that requires work to solve it and a target level for acceptance of the proof. With Bitcoins this means iteratively brute-forcing through [nonces](https://en.wikipedia.org/wiki/Cryptographic_nonce) to find the [SHA-256 hash](https://en.wikipedia.org/wiki/SHA-2) with four leading zeros. The probability of selecting a proper hexadecimal string with of 64 characters randomly is:"
   ]
  },
  {
   "cell_type": "code",
   "execution_count": 1,
   "metadata": {},
   "outputs": [
    {
     "name": "stdout",
     "output_type": "stream",
     "text": [
      "0.00153%\n"
     ]
    }
   ],
   "source": [
    "print(\"{:.5f}%\".format(int('0000'+'F'*60,16)/int('F'*64,16)*100))"
   ]
  },
  {
   "cell_type": "markdown",
   "metadata": {},
   "source": [
    "Our implementation's `proof` of a block essentially equals the nonce. This means that to produce a valid proof a number of iterations have to be tried out.\n",
    "\n",
    "In our blockchain the block-wise proofs are calculated with the proof values of the previous block. This means that *changing the a proof value mid-chain would require re-calculating i.e. re-mining the blocks* to have new proofs and thus re-calculating the block-wise hashes. Because our initial blockchain does not have any data associated with it just yet, linking the proofs and blocks separately serves as a safety measure to ensure the tampering of our distributed ledger would be nearly impossible."
   ]
  },
  {
   "cell_type": "code",
   "execution_count": 2,
   "metadata": {},
   "outputs": [],
   "source": [
    "import datetime\n",
    "import hashlib\n",
    "import json\n",
    "\n",
    "\n",
    "class Blockchain:\n",
    "\n",
    "    def __init__(self):\n",
    "        self.chain = []\n",
    "        self.create_block(proof=1, previous_hash='0')\n",
    "\n",
    "    def create_block(self, proof, previous_hash):\n",
    "        block = {\n",
    "            'index': len(self.chain),\n",
    "            'timestamp': str(datetime.datetime.now()),\n",
    "            'proof': proof,\n",
    "            'previous_hash': previous_hash,\n",
    "        }\n",
    "        self.chain.append(block)\n",
    "        return block\n",
    "\n",
    "    def get_previous_block(self):\n",
    "        return self.chain[-1]\n",
    "\n",
    "    def hash_proof(self, previous_proof, next_proof):\n",
    "        \"Calculate the SHA256-hash\"\n",
    "        return (hashlib\n",
    "                .sha256(str(next_proof**2 - previous_proof**2).encode())\n",
    "                .hexdigest())\n",
    "\n",
    "    def hash_block(self, block):\n",
    "        \"Calculate the SHA256-hash for a block.\"\n",
    "\n",
    "        encoded_block = json.dumps(block, sort_keys=True).encode()\n",
    "        return hashlib.sha256(encoded_block).hexdigest()\n",
    "\n",
    "    def proof_of_work(self, previous_proof):\n",
    "        \"Calculate a new proof related to the previous block.\"\n",
    "\n",
    "        next_proof = 1\n",
    "        check_proof = False\n",
    "\n",
    "        while check_proof is False:\n",
    "\n",
    "            if self.hash_proof(previous_proof, next_proof)[:4] == '0000':\n",
    "                check_proof = True\n",
    "\n",
    "            else:\n",
    "                next_proof += 1\n",
    "\n",
    "        return next_proof\n",
    "\n",
    "    def is_chain_valid(self, chain):\n",
    "        \"Validate that block and proof hashes are correct across the chain.\"\n",
    "\n",
    "        for i in range(len(chain)):\n",
    "\n",
    "            if i == 0:\n",
    "                continue\n",
    "\n",
    "            if chain[i]['previous_hash'] != self.hash_block(chain[i-1]):\n",
    "                return False\n",
    "\n",
    "            previous_proof = chain[i-1]['proof']\n",
    "            next_proof = chain[i]['proof']\n",
    "\n",
    "            if self.hash_proof(previous_proof, next_proof)[:4] != '0000':\n",
    "                \n",
    "                return False\n",
    "\n",
    "            return True"
   ]
  },
  {
   "cell_type": "markdown",
   "metadata": {},
   "source": [
    "## 2. Creating the Web App\n",
    "\n",
    "We will use Flask to create an accessible chain that is able to handle GET and POST requests for our chain accordingly. The endpoints for our web app are:\n",
    "\n",
    "- ``[\\blocks] POST``: Mine a single Block and save it to the centralized chain.\n",
    "- ``[\\blocks] GET``: Validate and retrieve the full chain of Blocks.\n",
    "\n",
    "We will also use a distinct class to easen up the use of the server in a manner which allows for non-blocking use of the notebook. Thus we run the server in a separate thread. We will also wrap the request calls as more easily called functions of the app. The ``BlockchainApp`` is usable as a context manager to ensure that the distinct thread is closed.\n",
    "\n",
    "An important point to notice is that the ``Blockchain`` instance will live separately from the ``BlockchainApp``. This means that while the ``BlockchainApp`` is re-initialized over and over, the actual Flask server accesses the ``Blockchain`` instance initialized at the same time with the server. Thus, the Blocks mined are persisted until the Python kernel is restarted."
   ]
  },
  {
   "cell_type": "code",
   "execution_count": 3,
   "metadata": {},
   "outputs": [],
   "source": [
    "import threading\n",
    "import requests\n",
    "import time\n",
    "\n",
    "from flask import Flask, request, jsonify\n",
    "import werkzeug\n",
    "\n",
    "app = Flask(__name__)\n",
    "blockchain = Blockchain()\n",
    "\n",
    "\n",
    "@app.route('/blocks', methods=['GET', 'POST'])\n",
    "def blocks():\n",
    "\n",
    "    if request.method == 'POST':\n",
    "\n",
    "        prev_block = blockchain.get_previous_block()\n",
    "        prev_hash = blockchain.hash_block(prev_block)\n",
    "        prev_proof = prev_block['proof']\n",
    "\n",
    "        proof = blockchain.proof_of_work(prev_proof)\n",
    "\n",
    "        block = blockchain.create_block(proof, prev_hash)\n",
    "\n",
    "        response = {\n",
    "            'message': 'Congratulations, you just mined a Block!',\n",
    "            'block': block\n",
    "        }\n",
    "\n",
    "        return (jsonify(response), 200)\n",
    "\n",
    "    if request.method == 'GET':\n",
    "\n",
    "        response = {\n",
    "            'blockchain': blockchain.chain,\n",
    "            'length': len(blockchain.chain),\n",
    "        }\n",
    "\n",
    "        if blockchain.is_chain_valid(blockchain.chain):\n",
    "\n",
    "            response['message'] = 'Chain is valid.'\n",
    "            return (jsonify(response), 200)\n",
    "\n",
    "        else:\n",
    "\n",
    "            response['message'] = 'Chain is not valid!'\n",
    "            return (jsonify(response), 500)\n",
    "\n",
    "\n",
    "@app.route('/shutdown')\n",
    "def shutdown():\n",
    "\n",
    "    request.environ.get('werkzeug.server.shutdown')()\n",
    "\n",
    "    return jsonify({'message': 'Shutting down'}), 200\n",
    "\n",
    "\n",
    "class BlockchainApp:\n",
    "\n",
    "    def __init__(self):\n",
    "\n",
    "        self.host = 'localhost'\n",
    "        self.port = 5000\n",
    "        self.host_url = 'http://{}:{}'.format(self.host, self.port)\n",
    "        self.t = threading.Thread(\n",
    "            target=app.run,\n",
    "            kwargs={'host': self.host, 'port': self.port})\n",
    "\n",
    "    def start(self):\n",
    "        self.t.start()\n",
    "\n",
    "    def stop(self):\n",
    "        if self.t.is_alive():\n",
    "            return requests.get('{}/shutdown'.format(self.host_url))\n",
    "\n",
    "    def mine_block(self):\n",
    "        return requests.post('{}/blocks'.format(self.host_url))\n",
    "\n",
    "    def get_blockchain(self):\n",
    "        return requests.get('{}/blocks'.format(self.host_url))\n",
    "\n",
    "    def __enter__(self):\n",
    "        self.start()\n",
    "        return self\n",
    "\n",
    "    def __exit__(self, *args):\n",
    "        self.stop()"
   ]
  },
  {
   "cell_type": "markdown",
   "metadata": {},
   "source": [
    "### 2.1 Testing the Blockchain App\n",
    "\n",
    "Let's then give the app a test run!"
   ]
  },
  {
   "cell_type": "code",
   "execution_count": 4,
   "metadata": {},
   "outputs": [
    {
     "name": "stderr",
     "output_type": "stream",
     "text": [
      " * Running on http://localhost:5000/ (Press CTRL+C to quit)\n"
     ]
    },
    {
     "name": "stdout",
     "output_type": "stream",
     "text": [
      "BlockchainApp\n"
     ]
    },
    {
     "name": "stderr",
     "output_type": "stream",
     "text": [
      "127.0.0.1 - - [11/Apr/2018 10:00:41] \"POST /blocks HTTP/1.1\" 200 -\n"
     ]
    },
    {
     "name": "stdout",
     "output_type": "stream",
     "text": [
      "{\n",
      "  \"block\": {\n",
      "    \"index\": 1,\n",
      "    \"previous_hash\": \"f198e29bb5e45e308d25579fc8f52a36fea66ba22ca61d18e654125c04116340\",\n",
      "    \"proof\": 533,\n",
      "    \"timestamp\": \"2018-04-11 10:00:41.379830\"\n",
      "  },\n",
      "  \"message\": \"Congratulations, you just mined a Block!\"\n",
      "}\n"
     ]
    },
    {
     "name": "stderr",
     "output_type": "stream",
     "text": [
      "127.0.0.1 - - [11/Apr/2018 10:00:42] \"GET /blocks HTTP/1.1\" 200 -\n"
     ]
    },
    {
     "name": "stdout",
     "output_type": "stream",
     "text": [
      "{\n",
      "  \"blockchain\": [\n",
      "    {\n",
      "      \"index\": 0,\n",
      "      \"previous_hash\": \"0\",\n",
      "      \"proof\": 1,\n",
      "      \"timestamp\": \"2018-04-11 10:00:40.317214\"\n",
      "    },\n",
      "    {\n",
      "      \"index\": 1,\n",
      "      \"previous_hash\": \"f198e29bb5e45e308d25579fc8f52a36fea66ba22ca61d18e654125c04116340\",\n",
      "      \"proof\": 533,\n",
      "      \"timestamp\": \"2018-04-11 10:00:41.379830\"\n",
      "    }\n",
      "  ],\n",
      "  \"length\": 2,\n",
      "  \"message\": \"Chain is valid.\"\n",
      "}\n"
     ]
    },
    {
     "name": "stderr",
     "output_type": "stream",
     "text": [
      "127.0.0.1 - - [11/Apr/2018 10:00:43] \"GET /shutdown HTTP/1.1\" 200 -\n"
     ]
    }
   ],
   "source": [
    "with BlockchainApp() as blockchain_app:\n",
    "\n",
    "    print(blockchain_app.__class__.__name__)\n",
    "\n",
    "    response = blockchain_app.mine_block()\n",
    "    print(json.dumps(response.json(), indent=2))\n",
    "\n",
    "    response = blockchain_app.get_blockchain()\n",
    "    print(json.dumps(response.json(), indent=2))"
   ]
  },
  {
   "cell_type": "markdown",
   "metadata": {},
   "source": [
    "Works like a prayer!"
   ]
  },
  {
   "cell_type": "markdown",
   "metadata": {},
   "source": [
    "## 3. Mining  Blocks\n",
    "\n",
    "Then we'll mine several blocks. This means that we'll start the server and make a few requests to the `/blocks` with a POST request."
   ]
  },
  {
   "cell_type": "code",
   "execution_count": 5,
   "metadata": {},
   "outputs": [
    {
     "name": "stderr",
     "output_type": "stream",
     "text": [
      " * Running on http://localhost:5000/ (Press CTRL+C to quit)\n",
      "127.0.0.1 - - [11/Apr/2018 10:00:44] \"POST /blocks HTTP/1.1\" 200 -\n"
     ]
    },
    {
     "name": "stdout",
     "output_type": "stream",
     "text": [
      "Proof=45293\n"
     ]
    },
    {
     "name": "stderr",
     "output_type": "stream",
     "text": [
      "127.0.0.1 - - [11/Apr/2018 10:00:45] \"POST /blocks HTTP/1.1\" 200 -\n"
     ]
    },
    {
     "name": "stdout",
     "output_type": "stream",
     "text": [
      "Proof=21391\n"
     ]
    },
    {
     "name": "stderr",
     "output_type": "stream",
     "text": [
      "127.0.0.1 - - [11/Apr/2018 10:00:46] \"POST /blocks HTTP/1.1\" 200 -\n"
     ]
    },
    {
     "name": "stdout",
     "output_type": "stream",
     "text": [
      "Proof=8018\n"
     ]
    },
    {
     "name": "stderr",
     "output_type": "stream",
     "text": [
      "127.0.0.1 - - [11/Apr/2018 10:00:48] \"POST /blocks HTTP/1.1\" 200 -\n"
     ]
    },
    {
     "name": "stdout",
     "output_type": "stream",
     "text": [
      "Proof=48191\n"
     ]
    },
    {
     "name": "stderr",
     "output_type": "stream",
     "text": [
      "127.0.0.1 - - [11/Apr/2018 10:00:49] \"GET /blocks HTTP/1.1\" 200 -\n"
     ]
    },
    {
     "name": "stdout",
     "output_type": "stream",
     "text": [
      "Chain={\n",
      "  \"blockchain\": [\n",
      "    {\n",
      "      \"index\": 0,\n",
      "      \"previous_hash\": \"0\",\n",
      "      \"proof\": 1,\n",
      "      \"timestamp\": \"2018-04-11 10:00:40.317214\"\n",
      "    },\n",
      "    {\n",
      "      \"index\": 1,\n",
      "      \"previous_hash\": \"f198e29bb5e45e308d25579fc8f52a36fea66ba22ca61d18e654125c04116340\",\n",
      "      \"proof\": 533,\n",
      "      \"timestamp\": \"2018-04-11 10:00:41.379830\"\n",
      "    },\n",
      "    {\n",
      "      \"index\": 2,\n",
      "      \"previous_hash\": \"8e0369ebcfe420065d5b3394c2ece9b06185757005b305a2d3e7277055281860\",\n",
      "      \"proof\": 45293,\n",
      "      \"timestamp\": \"2018-04-11 10:00:44.678168\"\n",
      "    },\n",
      "    {\n",
      "      \"index\": 3,\n",
      "      \"previous_hash\": \"df340007864a5fbd2a2465a9d2ac25f183416b5564a61fda2e87eb44d1ca18fb\",\n",
      "      \"proof\": 21391,\n",
      "      \"timestamp\": \"2018-04-11 10:00:45.831691\"\n",
      "    },\n",
      "    {\n",
      "      \"index\": 4,\n",
      "      \"previous_hash\": \"04f6299127b6fb0fb659e5b0ad54b3e2fa5d43739ae13e72a31da9ec04c7a18a\",\n",
      "      \"proof\": 8018,\n",
      "      \"timestamp\": \"2018-04-11 10:00:46.882162\"\n",
      "    },\n",
      "    {\n",
      "      \"index\": 5,\n",
      "      \"previous_hash\": \"003a0b87af5ad8d94070f7632b12b90ff18c4271fd7e2eae395be7b02aeaa50b\",\n",
      "      \"proof\": 48191,\n",
      "      \"timestamp\": \"2018-04-11 10:00:48.076540\"\n",
      "    }\n",
      "  ],\n",
      "  \"length\": 6,\n",
      "  \"message\": \"Chain is valid.\"\n",
      "}\n"
     ]
    },
    {
     "name": "stderr",
     "output_type": "stream",
     "text": [
      "127.0.0.1 - - [11/Apr/2018 10:00:50] \"GET /shutdown HTTP/1.1\" 200 -\n"
     ]
    }
   ],
   "source": [
    "with BlockchainApp() as blockchain_app:\n",
    "\n",
    "    for _ in range(4):\n",
    "\n",
    "        response = blockchain_app.mine_block()\n",
    "        print(\"Proof={}\".format(response.json()['block']['proof']))\n",
    "\n",
    "    response = blockchain_app.get_blockchain()\n",
    "    print(\"Chain={}\".format(json.dumps(response.json(), indent=2)))"
   ]
  },
  {
   "cell_type": "markdown",
   "metadata": {},
   "source": [
    "If you compare the first two Blocks with the test run you can see that the hashes and proofs match. This intended, as already stated."
   ]
  },
  {
   "cell_type": "markdown",
   "metadata": {},
   "source": [
    "### 3.1 Testing the Chain Validity\n",
    "\n",
    "We also want to see if changing the proof mid-chain breaks the chain. For this we must access the initialized ``Blockchain`` directly as the miniserver doesn't have a method for altering the chain - which is a wise starting point!"
   ]
  },
  {
   "cell_type": "code",
   "execution_count": 6,
   "metadata": {},
   "outputs": [
    {
     "name": "stderr",
     "output_type": "stream",
     "text": [
      " * Running on http://localhost:5000/ (Press CTRL+C to quit)\n"
     ]
    },
    {
     "name": "stdout",
     "output_type": "stream",
     "text": [
      "Proofs: Original=21391, Forged=21391\n"
     ]
    },
    {
     "name": "stderr",
     "output_type": "stream",
     "text": [
      "127.0.0.1 - - [11/Apr/2018 10:00:51] \"GET /blocks HTTP/1.1\" 500 -\n"
     ]
    },
    {
     "name": "stdout",
     "output_type": "stream",
     "text": [
      "{\n",
      "  \"blockchain\": [\n",
      "    {\n",
      "      \"index\": 0,\n",
      "      \"previous_hash\": \"0\",\n",
      "      \"proof\": 1,\n",
      "      \"timestamp\": \"2018-04-11 10:00:40.317214\"\n",
      "    },\n",
      "    {\n",
      "      \"index\": 1,\n",
      "      \"previous_hash\": \"f198e29bb5e45e308d25579fc8f52a36fea66ba22ca61d18e654125c04116340\",\n",
      "      \"proof\": 12345,\n",
      "      \"timestamp\": \"2018-04-11 10:00:41.379830\"\n",
      "    },\n",
      "    {\n",
      "      \"index\": 2,\n",
      "      \"previous_hash\": \"8e0369ebcfe420065d5b3394c2ece9b06185757005b305a2d3e7277055281860\",\n",
      "      \"proof\": 45293,\n",
      "      \"timestamp\": \"2018-04-11 10:00:44.678168\"\n",
      "    },\n",
      "    {\n",
      "      \"index\": 3,\n",
      "      \"previous_hash\": \"df340007864a5fbd2a2465a9d2ac25f183416b5564a61fda2e87eb44d1ca18fb\",\n",
      "      \"proof\": 21391,\n",
      "      \"timestamp\": \"2018-04-11 10:00:45.831691\"\n",
      "    },\n",
      "    {\n",
      "      \"index\": 4,\n",
      "      \"previous_hash\": \"04f6299127b6fb0fb659e5b0ad54b3e2fa5d43739ae13e72a31da9ec04c7a18a\",\n",
      "      \"proof\": 8018,\n",
      "      \"timestamp\": \"2018-04-11 10:00:46.882162\"\n",
      "    },\n",
      "    {\n",
      "      \"index\": 5,\n",
      "      \"previous_hash\": \"003a0b87af5ad8d94070f7632b12b90ff18c4271fd7e2eae395be7b02aeaa50b\",\n",
      "      \"proof\": 48191,\n",
      "      \"timestamp\": \"2018-04-11 10:00:48.076540\"\n",
      "    }\n",
      "  ],\n",
      "  \"length\": 6,\n",
      "  \"message\": \"Chain is not valid!\"\n",
      "}\n"
     ]
    },
    {
     "name": "stderr",
     "output_type": "stream",
     "text": [
      "127.0.0.1 - - [11/Apr/2018 10:00:52] \"GET /shutdown HTTP/1.1\" 200 -\n"
     ]
    }
   ],
   "source": [
    "original = blockchain.chain[3]['proof']\n",
    "blockchain.chain[1]['proof'] = 12345\n",
    "print('Proofs: Original={}, Forged={}'.format(original,blockchain.chain[3]['proof']))\n",
    "\n",
    "with BlockchainApp() as blockchain_app:\n",
    "    \n",
    "    response = blockchain_app.get_blockchain()\n",
    "    print(json.dumps(response.json(), indent=2))\n"
   ]
  },
  {
   "cell_type": "markdown",
   "metadata": {},
   "source": [
    "And so we indeed have invalidated the chain! Let's yet see what the hash should've been for Block in index ``2``, as it would be the one invalidated by the forgery."
   ]
  },
  {
   "cell_type": "code",
   "execution_count": 13,
   "metadata": {},
   "outputs": [
    {
     "name": "stdout",
     "output_type": "stream",
     "text": [
      "Hashes: \n",
      "\tOriginal =\t8e0369ebcfe420065d5b3394c2ece9b06185757005b305a2d3e7277055281860\n",
      "\tForged =\tb3e1a78ae4b5cd947a6690f4a5ee9b3a71a13a2df00d77cbc4c904c9b2ac2deb\n"
     ]
    }
   ],
   "source": [
    "proof_1 = blockchain.chain[1]['proof']\n",
    "proof_2 = blockchain.chain[2]['proof']\n",
    "\n",
    "forged_hash = blockchain.hash_proof(proof_1, proof_2)\n",
    "\n",
    "print(\"Hashes: \\n\\tOriginal =\\t{}\\n\\tForged =\\t{}\".format(blockchain.chain[2]['previous_hash'],forged_hash))"
   ]
  },
  {
   "cell_type": "markdown",
   "metadata": {},
   "source": [
    "What a difference. "
   ]
  },
  {
   "cell_type": "markdown",
   "metadata": {},
   "source": [
    "**This concludes the building and mining of a general purpose centralized Blockchain.**"
   ]
  }
 ],
 "metadata": {
  "kernelspec": {
   "display_name": "Python 3",
   "language": "python",
   "name": "python3"
  },
  "language_info": {
   "codemirror_mode": {
    "name": "ipython",
    "version": 3
   },
   "file_extension": ".py",
   "mimetype": "text/x-python",
   "name": "python",
   "nbconvert_exporter": "python",
   "pygments_lexer": "ipython3",
   "version": "3.6.4"
  },
  "toc": {
   "nav_menu": {},
   "number_sections": false,
   "sideBar": true,
   "skip_h1_title": true,
   "title_cell": "Table of Contents",
   "title_sidebar": "Contents",
   "toc_cell": true,
   "toc_position": {},
   "toc_section_display": true,
   "toc_window_display": false
  }
 },
 "nbformat": 4,
 "nbformat_minor": 2
}
