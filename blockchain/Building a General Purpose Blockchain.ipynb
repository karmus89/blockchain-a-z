{
 "cells": [
  {
   "cell_type": "markdown",
   "metadata": {},
   "source": [
    "*Created by Petteri Nevavuori <<petteri.nevavuori@gmail.com>>.*\n",
    "\n",
    "---\n",
    "\n",
    "# Building a General Purpose Blockchain\n",
    "\n",
    "In this notebook we'll build a general purpose blockhain. We'll showcase the fundamental aspects of block-related functionalities. The implementation follows closely on the premises of course Blockchain A-Z found in Udemy. This is the first module of the course. We will utilize the Python-based Flask web-server package to serve the general purpose blockchain. The development itself will be separated to several stages."
   ]
  },
  {
   "cell_type": "markdown",
   "metadata": {
    "toc": true
   },
   "source": [
    "<h1>Table of Contents<span class=\"tocSkip\"></span></h1>\n",
    "<div class=\"toc\"><ul class=\"toc-item\"><li><span><a href=\"#1.-Building-the-Blockhain\" data-toc-modified-id=\"1.-Building-the-Blockhain-1\">1. Building the Blockhain</a></span></li><li><span><a href=\"#2.-Mining-the-Blockchain\" data-toc-modified-id=\"2.-Mining-the-Blockchain-2\">2. Mining the Blockchain</a></span><ul class=\"toc-item\"><li><span><a href=\"#2.1-Creating-the-Web-App\" data-toc-modified-id=\"2.1-Creating-the-Web-App-2.1\">2.1 Creating the Web App</a></span></li></ul></li></ul></div>"
   ]
  },
  {
   "cell_type": "markdown",
   "metadata": {},
   "source": [
    "## 1. Building the Blockhain\n",
    "\n",
    "The first thing of course is to build the blockchain. This blockchain utilizes a [proof-of-work](https://en.wikipedia.org/wiki/Proof-of-work_system) (POW) to validate the blocks. Essentially the POW states a problem that requires work to solve it and a target level for acceptance of the proof. With Bitcoins this means iteratively brute-forcing through [nonces](https://en.wikipedia.org/wiki/Cryptographic_nonce) to find the [SHA-256 hash](https://en.wikipedia.org/wiki/SHA-2) with four leading zeros. The probability of selecting a proper hexadecimal string with of 64 characters randomly is:"
   ]
  },
  {
   "cell_type": "code",
   "execution_count": 9,
   "metadata": {},
   "outputs": [
    {
     "name": "stdout",
     "output_type": "stream",
     "text": [
      "0.00153%\n"
     ]
    }
   ],
   "source": [
    "print(\"{:.5f}%\".format(int('0000'+'F'*60,16)/int('F'*64,16)*100))"
   ]
  },
  {
   "cell_type": "markdown",
   "metadata": {},
   "source": [
    "Our implementation's `proof` of a block essentially equals the nonce. This means that to produce a valid proof a number of iterations have to be tried out.\n",
    "\n",
    "In our blockchain the block-wise proofs are calculated with the proof values of the previous block. This means that changing the a proof value mid-chain would require re-calculating i.e. re-mining the blocks to have new proofs and thus re-calculating the block-wise hashes. Because our initial blockchain does not have any data associated with it just yet, linking the proofs and blocks separately serves as a safety measure to ensure the tampering of our distributed ledger would be nearly impossible."
   ]
  },
  {
   "cell_type": "code",
   "execution_count": 2,
   "metadata": {},
   "outputs": [],
   "source": [
    "import datetime\n",
    "import hashlib\n",
    "import json\n",
    "from flask import Flask, jsonify\n",
    "\n",
    "\n",
    "class Blockchain:\n",
    "\n",
    "    def __init__(self):\n",
    "        self.chain = []\n",
    "        self.create_block(proof=1, previous_hash='0')\n",
    "\n",
    "    def create_block(self, proof, previous_hash):\n",
    "        block = {\n",
    "            'index': len(self.chain) + 1,\n",
    "            'timestamp': datetime.datetime.now(),\n",
    "            'proof': proof,\n",
    "            'previous_hash': previous_hash,\n",
    "        }\n",
    "        self.chain.append(block)\n",
    "        return block\n",
    "\n",
    "    def get_previous_block(self):\n",
    "        return self.chain[-1]\n",
    "\n",
    "    def hash_proof(self, previous_proof, next_proof):\n",
    "        \"Calculate the SHA256-hash\"\n",
    "        return (hashlib\n",
    "                .sha256(str(new_proof**2 - previous_proof**2).encode())\n",
    "                .hexdigest())\n",
    "\n",
    "    def hash_block(self, block):\n",
    "        \"Calculate the SHA256-hash for a block.\"\n",
    "\n",
    "        encoded_block = json.dumps(block, sort_keys=True).encode()\n",
    "        return hashlib.sha256(encoded_block).hexdigest()\n",
    "\n",
    "    def proof_of_work(self, previous_proof):\n",
    "        \"Calculate a new proof related to the previous block.\"\n",
    "\n",
    "        next_proof = 1\n",
    "        check_proof = False\n",
    "\n",
    "        while check_proof is False:\n",
    "\n",
    "            if self.hash_proof(previous_proof, next_proof)[:4] == '0000':\n",
    "                check_proof = True\n",
    "\n",
    "            else:\n",
    "                next_proof += 1\n",
    "\n",
    "        return next_proof\n",
    "\n",
    "    def is_chain_valid(self, chain):\n",
    "        \"Validate that block and proof hashes are correct across the chain.\"\n",
    "\n",
    "        for i in range(len(chain)):\n",
    "\n",
    "            if i == 0:\n",
    "                continue\n",
    "\n",
    "            if chain[i]['previous_hash'] != self.hash_block(chain[i-1]):\n",
    "                return False\n",
    "\n",
    "            previous_proof = chain[i-1]['proof']\n",
    "            next_proof = chain[i]['block']\n",
    "\n",
    "            if self.hash_proof(previous_proof, next_proof)[:4] == '0000':\n",
    "                return False\n",
    "\n",
    "            return True"
   ]
  },
  {
   "cell_type": "code",
   "execution_count": null,
   "metadata": {},
   "outputs": [],
   "source": []
  }
 ],
 "metadata": {
  "kernelspec": {
   "display_name": "Python 3",
   "language": "python",
   "name": "python3"
  },
  "language_info": {
   "codemirror_mode": {
    "name": "ipython",
    "version": 3
   },
   "file_extension": ".py",
   "mimetype": "text/x-python",
   "name": "python",
   "nbconvert_exporter": "python",
   "pygments_lexer": "ipython3",
   "version": "3.6.4"
  },
  "toc": {
   "nav_menu": {},
   "number_sections": false,
   "sideBar": true,
   "skip_h1_title": true,
   "title_cell": "Table of Contents",
   "title_sidebar": "Contents",
   "toc_cell": true,
   "toc_position": {},
   "toc_section_display": true,
   "toc_window_display": false
  }
 },
 "nbformat": 4,
 "nbformat_minor": 2
}
